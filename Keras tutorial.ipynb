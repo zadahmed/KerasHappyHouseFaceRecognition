{
 "cells": [
  {
   "cell_type": "markdown",
   "metadata": {},
   "source": [
    "Keras Tutorial Happy House"
   ]
  },
  {
   "cell_type": "code",
   "execution_count": 11,
   "metadata": {},
   "outputs": [],
   "source": [
    "import numpy as np\n",
    "from keras import layers\n",
    "from keras.layers import Input, Dense, Activation, ZeroPadding2D, BatchNormalization, Flatten, Conv2D\n",
    "from keras.layers import AveragePooling2D, MaxPooling2D, Dropout, GlobalMaxPooling2D, GlobalAveragePooling2D\n",
    "from keras.models import Model\n",
    "from keras.preprocessing import image\n",
    "from keras.utils import layer_utils\n",
    "from keras.utils.data_utils import get_file\n",
    "from keras.applications.imagenet_utils import preprocess_input\n",
    "import pydot\n",
    "from IPython.display import SVG\n",
    "from keras.utils.vis_utils import model_to_dot\n",
    "from keras.utils import plot_model\n",
    "from kt_utils import *\n",
    "\n",
    "import keras.backend as K\n",
    "K.set_image_data_format('channels_last')\n",
    "import matplotlib.pyplot as plt\n",
    "from matplotlib.pyplot import imshow\n",
    "\n",
    "%matplotlib inline"
   ]
  },
  {
   "cell_type": "code",
   "execution_count": null,
   "metadata": {},
   "outputs": [],
   "source": []
  },
  {
   "cell_type": "markdown",
   "metadata": {},
   "source": [
    "# Objective of this project\n",
    "Implementation of a facial recognition assignment using keras to detect if the person entering the house is happy or not"
   ]
  },
  {
   "cell_type": "code",
   "execution_count": 13,
   "metadata": {},
   "outputs": [
    {
     "name": "stdout",
     "output_type": "stream",
     "text": [
      "number of training examples = 600\n",
      "number of test examples = 150\n",
      "X_train shape: (600, 64, 64, 3)\n",
      "Y_train shape: (600, 1)\n",
      "X_test shape: (150, 64, 64, 3)\n",
      "Y_test shape: (150, 1)\n"
     ]
    }
   ],
   "source": [
    "X_train_orig, Y_train_orig, X_test_orig, Y_test_orig, classes = load_dataset()\n",
    "\n",
    "#Normalize the image vectors\n",
    "X_train = X_train_orig /255\n",
    "X_test = X_test_orig / 255\n",
    "\n",
    "Y_train = Y_train_orig.T\n",
    "Y_test = Y_test_orig.T\n",
    "\n",
    "print (\"number of training examples = \" + str(X_train.shape[0]))\n",
    "print (\"number of test examples = \" + str(X_test.shape[0]))\n",
    "print (\"X_train shape: \" + str(X_train.shape))\n",
    "print (\"Y_train shape: \" + str(Y_train.shape))\n",
    "print (\"X_test shape: \" + str(X_test.shape))\n",
    "print (\"Y_test shape: \" + str(Y_test.shape))"
   ]
  },
  {
   "cell_type": "code",
   "execution_count": 18,
   "metadata": {},
   "outputs": [],
   "source": [
    "#Create the model\n",
    "\n",
    "def HappyModel(input_shape):\n",
    "    #input_shapeis the shape of the images of the dataset\n",
    "    #output - returns the model\n",
    "    \n",
    "    X_input = Input(input_shape)\n",
    "    \n",
    "    X = ZeroPadding2D((3,3))(X_input) #Padding the border of Xinput with 3 zeros right and left\n",
    "    \n",
    "    X = Conv2D(32 , (7,7), strides = (1,1) , name = 'conv0')(X)\n",
    "\n",
    "    X = BatchNormalization(axis = 3 , name = 'bn0')(X)\n",
    "    X = Activation('relu')(X)\n",
    "    \n",
    "    X = MaxPooling2D((2,2) , name = 'max_pool')(X)\n",
    "    \n",
    "    X = Flatten()(X)\n",
    "    X = Dense(1, activation='sigmoid', name='fc')(X)\n",
    "\n",
    "    # Create model. This creates your Keras model instance, you'll use this instance to train/test the model.\n",
    "    model = Model(inputs = X_input, outputs = X, name='HappyModel')\n",
    "    return model\n",
    "    \n",
    "    "
   ]
  },
  {
   "cell_type": "code",
   "execution_count": 19,
   "metadata": {},
   "outputs": [
    {
     "name": "stdout",
     "output_type": "stream",
     "text": [
      "Epoch 1/40\n",
      "600/600 [==============================] - 8s 13ms/step - loss: 0.4545 - acc: 0.8583\n",
      "Epoch 2/40\n",
      "600/600 [==============================] - 8s 13ms/step - loss: 0.2137 - acc: 0.9150\n",
      "Epoch 3/40\n",
      "600/600 [==============================] - 7s 12ms/step - loss: 0.1264 - acc: 0.9517\n",
      "Epoch 4/40\n",
      "600/600 [==============================] - 7s 12ms/step - loss: 0.0869 - acc: 0.9633\n",
      "Epoch 5/40\n",
      "600/600 [==============================] - 8s 13ms/step - loss: 0.0836 - acc: 0.9683\n",
      "Epoch 6/40\n",
      "600/600 [==============================] - 7s 12ms/step - loss: 0.0961 - acc: 0.9667\n",
      "Epoch 7/40\n",
      "600/600 [==============================] - 8s 13ms/step - loss: 0.1332 - acc: 0.9500\n",
      "Epoch 8/40\n",
      "600/600 [==============================] - 7s 12ms/step - loss: 0.2777 - acc: 0.9150\n",
      "Epoch 9/40\n",
      "600/600 [==============================] - 7s 11ms/step - loss: 0.1568 - acc: 0.9417\n",
      "Epoch 10/40\n",
      "600/600 [==============================] - 7s 12ms/step - loss: 0.1549 - acc: 0.9433\n",
      "Epoch 11/40\n",
      "600/600 [==============================] - 7s 12ms/step - loss: 0.0885 - acc: 0.9717\n",
      "Epoch 12/40\n",
      "600/600 [==============================] - 8s 13ms/step - loss: 0.0790 - acc: 0.9700\n",
      "Epoch 13/40\n",
      "600/600 [==============================] - 7s 12ms/step - loss: 0.1157 - acc: 0.9600\n",
      "Epoch 14/40\n",
      "600/600 [==============================] - 8s 13ms/step - loss: 0.0588 - acc: 0.9817\n",
      "Epoch 15/40\n",
      "600/600 [==============================] - 7s 12ms/step - loss: 0.0660 - acc: 0.9750\n",
      "Epoch 16/40\n",
      "600/600 [==============================] - 7s 12ms/step - loss: 0.0470 - acc: 0.9850\n",
      "Epoch 17/40\n",
      "600/600 [==============================] - 8s 13ms/step - loss: 0.0715 - acc: 0.9767\n",
      "Epoch 18/40\n",
      "600/600 [==============================] - 8s 14ms/step - loss: 0.0992 - acc: 0.9683\n",
      "Epoch 19/40\n",
      "600/600 [==============================] - 8s 13ms/step - loss: 0.0405 - acc: 0.9817\n",
      "Epoch 20/40\n",
      "600/600 [==============================] - 8s 13ms/step - loss: 0.0473 - acc: 0.9883\n",
      "Epoch 21/40\n",
      "600/600 [==============================] - 8s 13ms/step - loss: 0.0341 - acc: 0.9900\n",
      "Epoch 22/40\n",
      "600/600 [==============================] - 8s 13ms/step - loss: 0.0242 - acc: 0.9867\n",
      "Epoch 23/40\n",
      "600/600 [==============================] - 8s 13ms/step - loss: 0.0654 - acc: 0.9733\n",
      "Epoch 24/40\n",
      "600/600 [==============================] - 7s 12ms/step - loss: 0.0810 - acc: 0.9683\n",
      "Epoch 25/40\n",
      "600/600 [==============================] - 7s 11ms/step - loss: 0.0915 - acc: 0.9750\n",
      "Epoch 26/40\n",
      "600/600 [==============================] - 8s 13ms/step - loss: 0.0384 - acc: 0.9867\n",
      "Epoch 27/40\n",
      "600/600 [==============================] - 10s 17ms/step - loss: 0.0414 - acc: 0.9850\n",
      "Epoch 28/40\n",
      "600/600 [==============================] - 9s 15ms/step - loss: 0.0337 - acc: 0.9833\n",
      "Epoch 29/40\n",
      "600/600 [==============================] - 8s 13ms/step - loss: 0.0169 - acc: 0.9917\n",
      "Epoch 30/40\n",
      "600/600 [==============================] - 7s 12ms/step - loss: 0.1206 - acc: 0.9583\n",
      "Epoch 31/40\n",
      "600/600 [==============================] - 7s 11ms/step - loss: 0.0590 - acc: 0.9783\n",
      "Epoch 32/40\n",
      "600/600 [==============================] - 7s 11ms/step - loss: 0.0511 - acc: 0.9833\n",
      "Epoch 33/40\n",
      "600/600 [==============================] - 8s 13ms/step - loss: 0.0511 - acc: 0.9867\n",
      "Epoch 34/40\n",
      "600/600 [==============================] - 8s 13ms/step - loss: 0.0252 - acc: 0.9867\n",
      "Epoch 35/40\n",
      "600/600 [==============================] - 9s 15ms/step - loss: 0.0463 - acc: 0.9867\n",
      "Epoch 36/40\n",
      "600/600 [==============================] - 7s 12ms/step - loss: 0.0480 - acc: 0.9883\n",
      "Epoch 37/40\n",
      "600/600 [==============================] - 7s 12ms/step - loss: 0.0584 - acc: 0.9750\n",
      "Epoch 38/40\n",
      "600/600 [==============================] - 7s 12ms/step - loss: 0.1279 - acc: 0.9550\n",
      "Epoch 39/40\n",
      "600/600 [==============================] - 7s 11ms/step - loss: 0.0783 - acc: 0.9767\n",
      "Epoch 40/40\n",
      "600/600 [==============================] - 7s 11ms/step - loss: 0.0713 - acc: 0.9800\n"
     ]
    },
    {
     "data": {
      "text/plain": [
       "<keras.callbacks.History at 0x7f12c04e53c8>"
      ]
     },
     "execution_count": 19,
     "metadata": {},
     "output_type": "execute_result"
    }
   ],
   "source": [
    "happyModel = HappyModel((64,64,3))\n",
    "happyModel.compile(optimizer = \"adam\",loss = \"binary_crossentropy\",metrics = [\"accuracy\"])\n",
    "happyModel.fit(x = X_train,y = Y_train,epochs =40 ,batch_size = 16 )"
   ]
  },
  {
   "cell_type": "code",
   "execution_count": 20,
   "metadata": {},
   "outputs": [
    {
     "name": "stdout",
     "output_type": "stream",
     "text": [
      "150/150 [==============================] - 1s 7ms/step\n",
      "\n",
      "Loss = 0.2663897987206777\n",
      "Test Accuracy = 0.9333333349227906\n"
     ]
    }
   ],
   "source": [
    "preds = happyModel.evaluate(x = X_test,y = Y_test)\n",
    "### END CODE HERE ###\n",
    "print()\n",
    "print (\"Loss = \" + str(preds[0]))\n",
    "print (\"Test Accuracy = \" + str(preds[1]))"
   ]
  },
  {
   "cell_type": "code",
   "execution_count": 32,
   "metadata": {},
   "outputs": [
    {
     "name": "stdout",
     "output_type": "stream",
     "text": [
      "[[0.]]\n"
     ]
    }
   ],
   "source": [
    "img_happypath = 'images/my_image.jpg'\n",
    "\n",
    "happy_img = image.load_img(img_happypath, target_size=(64, 64))\n",
    "\n",
    "img_sadpath = 'images/sad.jpg'\n",
    "\n",
    "x_face = image.img_to_array(happy_img)\n",
    "x_face = np.expand_dims(x_face, axis=0)\n",
    "x_face = preprocess_input(x_face)\n",
    "\n",
    "print(happyModel.predict(x_face))"
   ]
  },
  {
   "cell_type": "code",
   "execution_count": 33,
   "metadata": {},
   "outputs": [
    {
     "name": "stdout",
     "output_type": "stream",
     "text": [
      "[[1.]]\n"
     ]
    }
   ],
   "source": [
    "img_happypath = 'images/happyface.jpg'\n",
    "\n",
    "happy_img = image.load_img(img_happypath, target_size=(64, 64))\n",
    "\n",
    "x_face = image.img_to_array(happy_img)\n",
    "x_face = np.expand_dims(x_face, axis=0)\n",
    "x_face = preprocess_input(x_face)\n",
    "\n",
    "print(happyModel.predict(x_face))"
   ]
  },
  {
   "cell_type": "code",
   "execution_count": null,
   "metadata": {},
   "outputs": [],
   "source": []
  }
 ],
 "metadata": {
  "kernelspec": {
   "display_name": "Python 3",
   "language": "python",
   "name": "python3"
  },
  "language_info": {
   "codemirror_mode": {
    "name": "ipython",
    "version": 3
   },
   "file_extension": ".py",
   "mimetype": "text/x-python",
   "name": "python",
   "nbconvert_exporter": "python",
   "pygments_lexer": "ipython3",
   "version": "3.6.7"
  }
 },
 "nbformat": 4,
 "nbformat_minor": 2
}
